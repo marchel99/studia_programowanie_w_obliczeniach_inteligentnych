{
 "cells": [
  {
   "cell_type": "code",
   "execution_count": null,
   "id": "bc4b5e44",
   "metadata": {},
   "outputs": [],
   "source": [
    "import numpy as np\n",
    "from keras import Sequential\n",
    "from keras.layers import Dense\n",
    "from sklearn.model_selection import train_test_split\n",
    "from sklearn.metrics import confusion_matrix\n",
    "from sklearn.preprocessing import OneHotEncoder, LabelEncoder\n",
    "import pandas as pd\n",
    "\n",
    "df = pd.read_csv(r\"C:\\Users\\mrchl\\OneDrive\\Desktop\\Programowanie\\PWOI\\studia_programowanie_w_obliczeniach_inteligentnych\\zad4\\texture_features.csv\")\n",
    "\n",
    "X = df.drop('filename', axis=1).values\n",
    "y = df['filename'].apply(lambda x: x.split('_')[0]).values\n",
    "label_encoder = LabelEncoder()\n",
    "y_int = label_encoder.fit_transform(y)\n",
    "\n",
    "\n",
    "# 2. Wykonać kodowanie 1 z n dla wektora y_int → y_onehot\n",
    "onehot_encoder = OneHotEncoder(sparse=False)\n",
    "y_int = y_int.reshape(len(y_int), 1)\n",
    "y_onehot = onehot_encoder.fit_transform(y_int)\n",
    "\n",
    "# Podzielić zbiór X oraz wektor etykiet y_onehot na część treningową (70%) i testową (30%)\n",
    "X_train, X_test, y_train, y_test = train_test_split(X, y_onehot, test_size=0.3)\n",
    "\n",
    "# d. Tworzenie modelu sieci neuronowej\n",
    "# 1. Utworzyć obiekt sieci typu Sequential\n",
    "model = Sequential()\n",
    "\n",
    "# 2. Dodać dwie warstwy typu Dense\n",
    "model.add(Dense(10, activation='sigmoid', input_dim=6)) # 6 cech\n",
    "model.add(Dense(3, activation='softmax')) # 3 klasy\n",
    "\n",
    "# 3. Skompilować model\n",
    "model.compile(loss='categorical_crossentropy', optimizer='sgd', metrics=['accuracy'])\n",
    "\n",
    "# e. Uczenie sieci\n",
    "model.fit(X_train, y_train, epochs=100, batch_size=10, shuffle=True)\n",
    "\n",
    "# f. Testowanie sieci\n",
    "# 1. Przekonwertować wektor y_test oraz y_pred do kodowania całkowitego\n",
    "y_pred = model.predict(X_test)\n",
    "y_pred_int = np.argmax(y_pred, axis=1)\n",
    "y_test_int = np.argmax(y_test, axis=1)\n",
    "\n",
    "# 2. Na podstawie otrzymanych wektorów etykiet całkowitego wyliczyć macierz pomyłek\n",
    "cm = confusion_matrix(y_test_int, y_pred_int)\n",
    "print(cm)\n"
   ]
  }
 ],
 "metadata": {
  "kernelspec": {
   "display_name": "Python 3 (ipykernel)",
   "language": "python",
   "name": "python3"
  },
  "language_info": {
   "codemirror_mode": {
    "name": "ipython",
    "version": 3
   },
   "file_extension": ".py",
   "mimetype": "text/x-python",
   "name": "python",
   "nbconvert_exporter": "python",
   "pygments_lexer": "ipython3",
   "version": "3.9.13"
  }
 },
 "nbformat": 4,
 "nbformat_minor": 5
}
